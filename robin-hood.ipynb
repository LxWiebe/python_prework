{
 "cells": [
  {
   "cell_type": "markdown",
   "metadata": {},
   "source": [
    "<img src=\"https://bit.ly/2VnXWr2\" width=\"100\" align=\"left\"/>"
   ]
  },
  {
   "cell_type": "markdown",
   "metadata": {},
   "source": [
    "# Robin Hood\n",
    "Robin Hood has entered a competition to win the archery contest in Sherwood. With his bow and arrows, he needs to shoot on a target and try to hit as close as possible to the center.\n",
    "\n",
    "![](images/arrows.jpg)\n",
    "\n",
    "## Context\n",
    "In this challenge, the landing position of arrows shot by archers in the competition will be represented using 2-dimensional coordinates. \n",
    "\n",
    "In the 2-dimensional space, a point can be defined by a pair of values that correspond to the horizontal coordinate (x) and the vertical coordinate (y). For example, in our case, an arrow that hits the center of the archery target will land in position (0, 0) on the coordinate axes. \n",
    "\n",
    "The space can be divided into 4 zones (quadrants): Q1, Q2, Q3, Q4. If a point is in Q1, both its x coordinate and y coordinate are positive. Any point with a null x or y coordinate is considered to not belong to any quadrant. \n",
    "\n",
    "If you want to know more about the cartesian coordinate system, you can check this [link](https://en.wikipedia.org/wiki/Cartesian_coordinate_system). \n",
    "\n",
    "## Tools\n",
    "You don't necessarily need to use all the tools. Maybe you opt to use some of them or completely different ones, they are given to help you shape the exercise. Programming exercises can be solved in many different ways.\n",
    "* Data structures: **lists, sets, tuples**\n",
    "* Conditional statements: **if-elif-else**\n",
    "* Loop: **while/for**\n",
    "* Minimum (optional sorting)\n",
    "\n",
    "## Tasks\n",
    "Robin Hood has hit the following points:"
   ]
  },
  {
   "cell_type": "code",
   "execution_count": 2,
   "metadata": {},
   "outputs": [],
   "source": [
    "points = [(4, 5), (-0, 2), (4, 7), (1, -3), (3, -2), (4, 5), (3, 2), (5, 7), (-5, 7), (2, 2), (-4, 5), (0, -2),\n",
    "          (-4, 7), (-1, 3), (-3, 2), (-4, -5), (-3, 2), (5, 7), (5, 7), (2, 2), (9, 9), (-8, -9)]"
   ]
  },
  {
   "cell_type": "markdown",
   "metadata": {},
   "source": [
    "#### 1. Robin Hood is famous for hitting an arrow with another arrow. Find the coordinates of the points where an arrow hits another arrow."
   ]
  },
  {
   "cell_type": "code",
   "execution_count": 29,
   "metadata": {},
   "outputs": [
    {
     "name": "stdout",
     "output_type": "stream",
     "text": [
      "Unique points count:\n",
      "{(4, 5): 2, (0, 2): 1, (4, 7): 1, (1, -3): 1, (3, -2): 1, (3, 2): 1, (5, 7): 3, (-5, 7): 1, (2, 2): 2, (-4, 5): 1, (0, -2): 1, (-4, 7): 1, (-1, 3): 1, (-3, 2): 2, (-4, -5): 1, (9, 9): 1, (-8, -9): 1}\n",
      "\n",
      "Points with more than one hit:\n",
      "{(4, 5): 2, (5, 7): 3, (2, 2): 2, (-3, 2): 2}\n",
      "\n",
      "Number of points with more than one hit:\n",
      "4\n"
     ]
    }
   ],
   "source": [
    "points_dict = {i:points.count(i) for i in points}\n",
    "print('Unique points count:')\n",
    "print(points_dict)\n",
    "print ()\n",
    "\n",
    "points_dict_2 = {k:v for (k, v) in points_dict.items() if v >=2}\n",
    "print('Points with more than one hit:')\n",
    "print(points_dict_2)\n",
    "\n",
    "print()\n",
    "print('Number of points with more than one hit:')\n",
    "print(len(points_dict_2))"
   ]
  },
  {
   "cell_type": "markdown",
   "metadata": {},
   "source": [
    "#### 2. Calculate how many arrows have fallen in each quadrant. \n",
    "**Note**: the arrows that fall in the axis (x=0 or y=0) don't belong to any quadrant."
   ]
  },
  {
   "cell_type": "code",
   "execution_count": 4,
   "metadata": {},
   "outputs": [
    {
     "name": "stdout",
     "output_type": "stream",
     "text": [
      "Q1: \n",
      "10\n",
      "Q2: \n",
      "6\n",
      "Q3: \n",
      "2\n",
      "Q4: \n",
      "2\n"
     ]
    }
   ],
   "source": [
    "quadrant_count = []\n",
    "for point in points:\n",
    "    if point[0] > 0 and point[1] > 0 :\n",
    "        quadrant_count.append('Q1')\n",
    "    elif point[0] < 0 and point[1] > 0:\n",
    "        quadrant_count.append('Q2')\n",
    "    elif point[0] < 0 and point[1] < 0:\n",
    "        quadrant_count.append('Q3')\n",
    "    elif point[0] > 0 and point[1] < 0:\n",
    "        quadrant_count.append('Q4')   \n",
    "\n",
    "print('Q1: ') \n",
    "print(quadrant_count.count('Q1'))\n",
    "\n",
    "print('Q2: ') \n",
    "print(quadrant_count.count('Q2'))\n",
    "\n",
    "print('Q3: ') \n",
    "print(quadrant_count.count('Q3'))\n",
    "\n",
    "print('Q4: ') \n",
    "print(quadrant_count.count('Q4'))\n",
    "\n",
    "        "
   ]
  },
  {
   "cell_type": "markdown",
   "metadata": {},
   "source": [
    "#### 3. Find the point closest to the center. Calculate its distance to the center. \n",
    "Take into account that there might be more than one point at the minimum distance to the center.\n",
    "\n",
    "**Hint**: Use the Euclidean distance. You can find more information about it [here](https://en.wikipedia.org/wiki/Euclidean_distance).  \n",
    "**Hint**: Defining a function that calculates the distance to the center can help."
   ]
  },
  {
   "cell_type": "code",
   "execution_count": 21,
   "metadata": {},
   "outputs": [
    {
     "name": "stdout",
     "output_type": "stream",
     "text": [
      "All distances:\n",
      "[6.4031242374328485, 2.0, 8.06225774829855, 3.1622776601683795, 3.605551275463989, 6.4031242374328485, 3.605551275463989, 8.602325267042627, 8.602325267042627, 2.8284271247461903, 6.4031242374328485, 2.0, 8.06225774829855, 3.1622776601683795, 3.605551275463989, 6.4031242374328485, 3.605551275463989, 8.602325267042627, 8.602325267042627, 2.8284271247461903, 12.727922061357855, 12.041594578792296]\n",
      "\n",
      "Minimal distance:\n",
      "2.0\n"
     ]
    }
   ],
   "source": [
    "import math\n",
    "def distance(p1):\n",
    "    return math.sqrt( (0 - p1[0]) **2 + (0 - p1[1]) **2 )\n",
    "\n",
    "point_distance = []\n",
    "for point in points:\n",
    "    point_distance.append(distance(point))\n",
    "\n",
    "print('All distances:')\n",
    "print(point_distance)\n",
    "\n",
    "print()\n",
    "print('Minimal distance:')\n",
    "print(min(point_distance))\n"
   ]
  },
  {
   "cell_type": "markdown",
   "metadata": {},
   "source": [
    "4. If the archery target has a radius of 9, calculate the number of arrows that won't hit the target. \n",
    "**Hint**: Use the function created in step 3. "
   ]
  },
  {
   "cell_type": "code",
   "execution_count": 25,
   "metadata": {},
   "outputs": [
    {
     "name": "stdout",
     "output_type": "stream",
     "text": [
      "Number of arrows not in radius:\n",
      "2\n"
     ]
    }
   ],
   "source": [
    "import math\n",
    "def distance(p1):\n",
    "    return math.sqrt( (0 - p1[0]) **2 + (0 - p1[1]) **2 )\n",
    "\n",
    "point_distance_radius = []\n",
    "for point in points:\n",
    "    if distance(point) > 9:\n",
    "        point_distance_radius.append(distance(point))\n",
    "\n",
    "print('Number of arrows not in radius:')\n",
    "print(len(point_distance_radius))\n"
   ]
  }
 ],
 "metadata": {
  "kernelspec": {
   "display_name": "Python 3",
   "language": "python",
   "name": "python3"
  },
  "language_info": {
   "codemirror_mode": {
    "name": "ipython",
    "version": 3
   },
   "file_extension": ".py",
   "mimetype": "text/x-python",
   "name": "python",
   "nbconvert_exporter": "python",
   "pygments_lexer": "ipython3",
   "version": "3.8.4"
  }
 },
 "nbformat": 4,
 "nbformat_minor": 2
}
